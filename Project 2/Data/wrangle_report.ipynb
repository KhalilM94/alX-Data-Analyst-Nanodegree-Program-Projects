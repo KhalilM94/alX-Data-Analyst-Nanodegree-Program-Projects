{
 "cells": [
  {
   "cell_type": "markdown",
   "metadata": {},
   "source": [
    "## Reporting: wragle_report\n",
    "* Create a **300-600 word written report** called \"wrangle_report.pdf\" or \"wrangle_report.html\" that briefly describes your wrangling efforts. This is to be framed as an internal document."
   ]
  },
  {
   "cell_type": "markdown",
   "metadata": {},
   "source": [
    "## General context\n",
    "\n",
    "In this project, I tried to beneficiate and make hands-on a real-world data wrangling and exploratory data analysis use case. This experience included the collection, evaluation, cleaning, and data analysis.\n",
    "\n",
    "The sample database contains information about the Twitter user @dog rate, also known as WeRateDogsTM. This account has over 7,572,000 followers, 9,500 tweets, and 141,000 likes.\n",
    "\n",
    "There are three parts to the Data Gathering process: manually downloading a file from a URL and then uploading it to the Jupyter Notebook; automatically downloading a file using Python scripting; and collecting data using the Twitter API. An integral part of this process has been saving these records to thelocal drive.\n",
    "\n",
    "\n",
    "In order to generate a clean tidy dataset, I have used the collected data to evaluate 10 of the most obvious issues and wrote my findings about them.\n",
    "After identifying the problems, I resolved them all during the Data Cleaning phase. I combined the two files I had obtained during Data Gathering into one, and I also filled in some missing values (from the archive downloaded from the Twitter API). Finally, I have save the the completed data frame under the name 'twitter_archive master.csv'.\n",
    "### Insights\n",
    "Exploratory Analysis in Data Analysis and Visualization has led me to find evidences for the following claims, which I have derived by asking only a few focused questions at the beginning of my investigation:\n",
    "- The existence of a positive correlation between the number of retweets and the number of favourites, and;\n",
    "- No relationship between the output of the algorithms used to forecast the dog breed and the number of retweets or favorites.\n",
    "\n",
    "Nevertheless, Numerous other inquiries need solutions, including the following:\n",
    "\n",
    "What factors contribute to the superior performance of some Breeds over others in terms of retweets and favorites gathering?\n",
    "\n",
    "Remove from the df viz only the species that has a prevalence greater than the mean.\n",
    "\n",
    "Is there any seasonal yearly pattern between dog breeds and dog growth stages?\n"
   ]
  }
 ],
 "metadata": {
  "kernelspec": {
   "display_name": "Python 3 (ipykernel)",
   "language": "python",
   "name": "python3"
  },
  "language_info": {
   "codemirror_mode": {
    "name": "ipython",
    "version": 3
   },
   "file_extension": ".py",
   "mimetype": "text/x-python",
   "name": "python",
   "nbconvert_exporter": "python",
   "pygments_lexer": "ipython3",
   "version": "3.8.13"
  }
 },
 "nbformat": 4,
 "nbformat_minor": 2
}
